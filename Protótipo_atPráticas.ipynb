{
  "nbformat": 4,
  "nbformat_minor": 0,
  "metadata": {
    "colab": {
      "provenance": []
    },
    "kernelspec": {
      "name": "python3",
      "display_name": "Python 3"
    },
    "language_info": {
      "name": "python"
    }
  },
  "cells": [
    {
      "cell_type": "code",
      "execution_count": 4,
      "metadata": {
        "colab": {
          "base_uri": "https://localhost:8080/"
        },
        "id": "idhONrJuUVkX",
        "outputId": "404049b9-ae52-4ecd-f69a-6f146ab9b72c"
      },
      "outputs": [
        {
          "output_type": "stream",
          "name": "stdout",
          "text": [
            "Drive already mounted at /content/drive; to attempt to forcibly remount, call drive.mount(\"/content/drive\", force_remount=True).\n",
            "Nome do arquivo: zachary\n",
            "zachary 34 34\n",
            "Resultado salvo em arquivo de nome: zachary_resultado.txt\n"
          ]
        }
      ],
      "source": [
        "import numpy as np\n",
        "from google.colab import drive\n",
        "\n",
        "drive.mount('/content/drive')\n",
        "\n",
        "\"\"\"\n",
        "Lê o arquivo de dados (.txt) do Google Drive e retorna uma matriz NumPy.\n",
        "Parâmetros:\n",
        "    nome_arquivo(str) - sem a extensão .txt.\n",
        "Retorna:\n",
        "    Matriz NumPy com os dados do arquivo ou None em caso de erro.\n",
        "\"\"\"\n",
        "def ler_arquivo(nome_arquivo):\n",
        "    caminho = f\"/content/drive/My Drive/grafos_datasets/{nome_arquivo}.txt\"\n",
        "    try:\n",
        "        matriz = np.genfromtxt(caminho, delimiter=' ', filling_values=np.nan)\n",
        "        if matriz.ndim == 1:\n",
        "            matriz = matriz.reshape(1, -1)\n",
        "        return matriz\n",
        "    except Exception as e:\n",
        "        print('Erro ao ler o arquivo.', e)\n",
        "        return None\n",
        "\n",
        "\n",
        "\"\"\"\n",
        "Obtém as dimensões da matriz (número de linhas e colunas).\n",
        "Parâmetros:\n",
        "    matriz - cujas dimensões serão obtidas.\n",
        "Retorna:\n",
        "    Uma tupla com o número de linhas e colunas da matriz.\n",
        "\"\"\"\n",
        "def obter_dimensoes(matriz):\n",
        "    if matriz is not None:\n",
        "        linhas, colunas = matriz.shape\n",
        "        return linhas, colunas\n",
        "    else:\n",
        "        print(\"Matriz não disponível para obter dimensões.\")\n",
        "        return None, None\n",
        "\n",
        "\n",
        "\"\"\"\n",
        "Exibe o resultado (nome do arquivo e dimensões) e salva em um arquivo de texto.\n",
        "Parâmetros:\n",
        "    nome_arquivo (str) - sem a extensão .txt\n",
        "    linhas (int), colunas (int)\n",
        "\"\"\"\n",
        "def exibir_salvar_resultado(nome_arquivo, linhas, colunas):\n",
        "    resultado = f\"{nome_arquivo} {linhas} {colunas}\"\n",
        "    print(f'{nome_arquivo} {linhas} {colunas}')\n",
        "\n",
        "    caminho = f'/content/drive/My Drive/{nome_arquivo}_resultado.txt'\n",
        "    np.savetxt(caminho, [resultado], fmt=\"%s\")\n",
        "    print(f\"Resultado salvo em arquivo de nome: {nome_arquivo}_resultado.txt\")\n",
        "\n",
        "\n",
        "def main():\n",
        "    nome_arquivo = input('Nome do arquivo: ')\n",
        "    matriz = ler_arquivo(nome_arquivo)\n",
        "    if matriz is not None:\n",
        "        linhas, colunas = obter_dimensoes(matriz)\n",
        "        if linhas is not None and colunas is not None:\n",
        "            exibir_salvar_resultado(nome_arquivo, linhas, colunas)\n",
        "        else:\n",
        "            print(\"Não foi possível obter as dimensões.\")\n",
        "    else:\n",
        "        print(\"Não foi possível ler o arquivo.\")\n",
        "\n",
        "if __name__ == \"__main__\":\n",
        "    main()\n"
      ]
    }
  ]
}